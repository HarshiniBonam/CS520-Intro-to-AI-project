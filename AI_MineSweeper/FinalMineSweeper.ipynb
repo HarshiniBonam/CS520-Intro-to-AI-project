{
  "nbformat": 4,
  "nbformat_minor": 0,
  "metadata": {
    "colab": {
      "name": "Copy_of_minesweeper (3).ipynb",
      "provenance": [],
      "collapsed_sections": []
    },
    "kernelspec": {
      "name": "python3",
      "display_name": "Python 3"
    }
  },
  "cells": [
    {
      "cell_type": "code",
      "metadata": {
        "id": "pa7pEtZWCQAp",
        "colab_type": "code",
        "colab": {}
      },
      "source": [
        "# \"Unknown\"\n",
        "# \"Mine\"\n",
        "# \"Number\"\n",
        "# \"Clear\"\n",
        "# \"END\""
      ],
      "execution_count": 0,
      "outputs": []
    },
    {
      "cell_type": "code",
      "metadata": {
        "id": "nHYjHvPvQQjT",
        "colab_type": "code",
        "colab": {}
      },
      "source": [
        "import random\n",
        "import matplotlib.pyplot as plt\n",
        "from matplotlib import colors\n",
        "import numpy as np\n",
        "from math import sqrt, fabs\n",
        "import random\n",
        "import itertools\n",
        "import math"
      ],
      "execution_count": 0,
      "outputs": []
    },
    {
      "cell_type": "code",
      "metadata": {
        "id": "gweEgBHmL_Bs",
        "colab_type": "code",
        "colab": {}
      },
      "source": [
        "class Cell():\n",
        "  def __init__(self,length,width):\n",
        "    self.cellType=\"Unknown\"\n",
        "    self.isUseless=True\n",
        "    self.length=length\n",
        "    self.width=width\n",
        "    self.val=-1\n",
        "  \n",
        "  def isUseless(self):\n",
        "    return self.isUseless\n",
        "  \n",
        "  \n",
        "  def setUseless(self,bools):\n",
        "    self.isUseless=bools\n",
        "  \n",
        "  def getLen(self):\n",
        "    return self.length\n",
        "  \n",
        "  def getWid(self):\n",
        "    return self.width\n",
        "  \n",
        "  def getCellType(self):\n",
        "    return self.cellType\n",
        "  \n",
        "  def setCellType(self,CellType):\n",
        "    self.cellType=CellType\n",
        "  \n",
        "  def setVal(self,val):\n",
        "    self.val=val\n",
        "  \n",
        "  def getVal(self):\n",
        "    return self.val\n",
        "    "
      ],
      "execution_count": 0,
      "outputs": []
    },
    {
      "cell_type": "code",
      "metadata": {
        "id": "aI42pWt0NgBx",
        "colab_type": "code",
        "colab": {}
      },
      "source": [
        "class Board ():\n",
        "  \n",
        "  def __init__(self,length,width,minesTotal):\n",
        "    self.length = length\n",
        "    self.width = width\n",
        "    self.minesTotal = minesTotal\n",
        "    self.board=[[Cell(i,j)for j in range(width)]for i in range(length)]\n",
        "\n",
        "#   def printBoard():\n",
        "#     mines=0\n",
        "#     for i in range(self.length):\n",
        "#       for j in range(self.width):\n",
        "#         if board[i][j]==\"Unknown\":\n",
        "\n",
        "  def printBoard(self):\n",
        "    mines = 0\n",
        "    b = [['?'for i in range(self.length)] for j in range(self.width)]\n",
        "    fig, ax = plt.subplots()\n",
        "    ax.axis('tight')\n",
        "    ax.axis('off')\n",
        "    for i in range(self.length):\n",
        "      for j in range(self.width):\n",
        "            if(self.board[i][j].getCellType()==\"Unknown\"):\n",
        "              b[i][j] = '?'\n",
        "            elif(self.board[i][j].getCellType() == \"Clear\"):\n",
        "              b[i][j] ='-'\n",
        "            elif(self.board[i][j].getCellType() == \"Number\"):\n",
        "              b[i][j] = str(self.board[i][j].getVal())\n",
        "            elif(self.board[i][j].getCellType() == \"Mine\"):\n",
        "              b[i][j] = \"M\"\n",
        "              mines+=1\n",
        "            elif(self.board[i][j].getCellType() == \"END\"):\n",
        "              b[i][j] = \"X\"\n",
        "    the_table = ax.table(cellText = b, colWidths = [0.04 for x in range(self.length)])\n",
        "    print(\"Mines Found:\"+ str(mines))\n",
        "    plt.show()\n",
        "  \n",
        "  def getBoard(self):\n",
        "    return self.board\n",
        "  \n",
        "  def getLen(self):\n",
        "    return self.length\n",
        "  \n",
        "  def getWid(self):\n",
        "    return self.width\n",
        "  \n",
        "  def getMinesTotal(self):\n",
        "    return self.minesTotal\n",
        "  \n",
        "  def countUnknowns(self):\n",
        "    unknowns=0\n",
        "    for i in range(self.length):\n",
        "      for j in range(self.width):\n",
        "        if(self.board[i][j]==\"Unknown\"):\n",
        "          unknowns+=1\n",
        "    return unknowns\n",
        "  \n",
        "  def getUnknowns(self):\n",
        "    unknowns=[]\n",
        "    for i in range(self.length):\n",
        "      for j in range(self.width):\n",
        "        if(self.board[i][j].getCellType()==\"Unknown\"):\n",
        "          unknowns.append(self.board[i][j])\n",
        "    return unknowns\n",
        "  \n",
        "  def countMines(self):\n",
        "    mines=0\n",
        "    for i in range(self.length):\n",
        "      for j in range(self.width):\n",
        "        if(self.board[i][j].getCellType()==\"Mine\"):\n",
        "          mines+=1\n",
        "    return mines\n",
        "      \n",
        "  def countNeighborMines(self,cell):\n",
        "    mines=0\n",
        "    for i in range(max(0,cell.getLen()-1),min(self.length-1,cell.getLen()+1)+1):\n",
        "      for j in range(max(0,cell.getWid()-1),min(self.width-1,cell.getWid()+1)+1):\n",
        "        if i==cell.getLen() and j==cell.getWid():\n",
        "          continue\n",
        "        elif self.board[i][j].getCellType()==\"Mine\":\n",
        "          mines+=1\n",
        "    return mines\n",
        "  \n",
        "  def countNeighborUnknowns(self,cell):\n",
        "    unknowns=0\n",
        "    for i in range(max(0,cell.getLen()-1),min(self.length-1,cell.getLen()+1)+1):\n",
        "      for j in range(max(0,cell.getWid()-1),min(self.width-1,cell.getWid()+1)+1):\n",
        "        if i==cell.getLen() and j==cell.getWid():\n",
        "          continue\n",
        "        elif self.board[i][j].getCellType()==\"Unknown\":\n",
        "          unknowns+=1\n",
        "    return unknowns\n",
        "        \n",
        "  def getNeighbor(self,cell):\n",
        "    neighbor=[]\n",
        "    for i in range(max(0,cell.getLen()-1),min(self.length-1,cell.getLen()+1)+1):\n",
        "      for j in range(max(0,cell.getWid()-1),min(self.width-1,cell.getWid()+1)+1):\n",
        "        if i==cell.getLen() and j==cell.getWid():\n",
        "          continue\n",
        "        else:\n",
        "          neighbor.append(self.board[i][j])\n",
        "    return neighbor\n",
        "\n",
        "  def getNeighborUnknowns(self,cell):\n",
        "    neighbor=[]\n",
        "    for i in range(max(0,cell.getLen()-1),min(self.length-1,cell.getLen()+1)+1):\n",
        "      for j in range(max(0,cell.getWid()-1),min(self.width-1,cell.getWid()+1)+1):\n",
        "        if i==cell.getLen() and j==cell.getWid():\n",
        "          continue\n",
        "        else:\n",
        "            if(self.board[i][j].getCellType()==\"Unknown\"):\n",
        "                neighbor.append(self.board[i][j])\n",
        "    return neighbor\n",
        "  "
      ],
      "execution_count": 0,
      "outputs": []
    },
    {
      "cell_type": "code",
      "metadata": {
        "id": "s-N4W1wdCZSq",
        "colab_type": "code",
        "colab": {}
      },
      "source": [
        "def intersection(lst1, lst2): \n",
        "    lst3 = [value for value in lst1 if value in lst2] \n",
        "    return lst3 \n",
        "\n",
        "def diff(lst1, lst2): \n",
        "    return (list(set(lst1) - set(lst2))) \n",
        "    return lst3 "
      ],
      "execution_count": 0,
      "outputs": []
    },
    {
      "cell_type": "code",
      "metadata": {
        "id": "7MnoRX2mNVv2",
        "colab_type": "code",
        "colab": {}
      },
      "source": [
        "class Sweeper():\n",
        "  \n",
        "    def __init__(self,board,randBoard,death=\"on\"):\n",
        "        self.board=board\n",
        "        self.randBorad=randBoard\n",
        "        self.death=death\n",
        "        self.failure=0\n",
        "    \n",
        "  \n",
        "\n",
        "  #  find one unknown position as the random guess location\n",
        "    def randomGuess(self):\n",
        "#       print(self.board.countMines())\n",
        "#       print(\"!!!\")\n",
        "      if self.board.countMines()==0:\n",
        "        randLen=random.randint(0,self.board.getLen()-1)\n",
        "        randWid=random.randint(0,self.board.getWid()-1)\n",
        "        while(self.board.board[randLen][randWid].getCellType()!=\"Unknown\"):\n",
        "          randLen=random.randint(0,self.board.getLen()-1)\n",
        "          randWid=random.randint(0,self.board.getWid()-1)\n",
        "        guessPosition=[]\n",
        "        guessPosition.append([randLen,randWid])\n",
        "        return guessPosition\n",
        "\n",
        "      else:\n",
        "        minPosibility=1\n",
        "        guessPosition=[0]\n",
        "        if self.board.countUnknowns()==0:\n",
        "            normalP=0\n",
        "        else:\n",
        "            normalP=(self.board.getMinesTotal()-self.board.countMines())/self.board.countUnknowns()\n",
        "        pb=[[1.0 for i in range(self.board.getWid())]for j in range(self.board.getLen())]\n",
        "        for i in range (self.board.getLen()):\n",
        "          for j in range (self.board.getWid()):\n",
        "            cell=self.board.board[i][j]\n",
        "            if cell.getCellType()==\"Unknown\":\n",
        "              neighborP=[]\n",
        "              for m in range(max(0,cell.getLen()-1),min(self.board.getLen()-1,cell.getLen()+1)+1):\n",
        "                for n in range(max(0,cell.getWid()-1),min(self.board.getWid()-1,cell.getWid()+1)+1):\n",
        "                    if self.board.board[m][n].getVal()<9 and self.board.board[m][n].getVal()>0:\n",
        "                      total=self.board.board[m][n].getVal()\n",
        "                      mines=self.board.countNeighborMines(self.board.board[m][n])\n",
        "                      neighborP.append((total-mines)/8)\n",
        "              a=0\n",
        "              num=0\n",
        "              for ele in neighborP:\n",
        "                a+=1\n",
        "                num*=ele\n",
        "              if a==0:\n",
        "                pb[i][j]=normalP\n",
        "              else:\n",
        "  #               print(\"!!!\")\n",
        "  #               print(i,j,num)\n",
        "                pb[i][j]=num\n",
        "\n",
        "#         print(pb)\n",
        "        for i in range (self.board.getLen()):\n",
        "            for j in range (self.board.getWid()):\n",
        "              if pb[i][j]<=minPosibility:\n",
        "                minPosibility=pb[i][j]\n",
        "                guessPosition[0]=[i,j]\n",
        "  #       print(\"-------------test----------------\")\n",
        "  #       print(guessPosition)\n",
        "  #       print(\"-------------test----------------\")\n",
        "        return guessPosition\n",
        "    \n",
        "    def guess(self):\n",
        "        print(\"Guessing...\")\n",
        "        guessPosition=self.randomGuess()\n",
        "        print(\"Guessed Position\",guessPosition)\n",
        "        if not self.runSweeper(guessPosition):\n",
        "            return False\n",
        "        return True\n",
        "  \n",
        "  #Run\n",
        "  #direct\n",
        "    def solve(self):\n",
        "        searchPosition=self.search()        \n",
        "        inferPosition=self.infer()\n",
        "        while searchPosition or inferPosition:  \n",
        "#             if not self.runSweeper(searchPosition):\n",
        "#                 return False\n",
        "#             searchPosition=self.search()\n",
        "#             self.runSweeper(searchPosition)\n",
        "#             if searchPosition:\n",
        "#                 continue\n",
        "#             inferPosition=self.infer()\n",
        "#             if not self.runSweeper(inferPosition):\n",
        "#                 return False           \n",
        "            while searchPosition:\n",
        "                survive=self.runSweeper(searchPosition)\n",
        "                if not survive:\n",
        "                    return False\n",
        "                searchPosition=self.search()\n",
        "            inferPosition=self.infer()\n",
        "            while inferPosition:\n",
        "                survive=self.runSweeper(inferPosition)\n",
        "                if not survive:\n",
        "                    return False\n",
        "                inferPosition=self.infer()\n",
        "            searchPosition=self.search()\n",
        "        return True\n",
        "    \n",
        "    def simpleSolve(self):\n",
        "        searchPosition=self.search()\n",
        "        while searchPosition:\n",
        "            survive=self.runSweeper(searchPosition)\n",
        "            if not survive:\n",
        "                return False\n",
        "            searchPosition=self.search()\n",
        "        return True\n",
        "    \n",
        "    def search(self):\n",
        "        print(\"Searching...\")\n",
        "        searchPosition=[]\n",
        "        for i in range (self.board.getLen()):\n",
        "          for j in range (self.board.getWid()):\n",
        "            if not self.board.board[i][j].isUseless:\n",
        "#               print(\"~~~~\")\n",
        "              cell=self.board.board[i][j]\n",
        "              if cell.getCellType()==\"Mine\":\n",
        "                cell.setUseless(True)\n",
        "                break\n",
        "              elif cell.getCellType()==\"Number\":\n",
        "#                 print(\"----------_________________________--------\")\n",
        "#                 print(self.board.countNeighborUnknowns(cell),cell.getVal(),self.board.countNeighborMines(cell))\n",
        "#                 print(\"----------_________________________--------\")\n",
        "                if self.board.countNeighborMines(cell)==cell.getVal():  \n",
        "                  neighbor=self.board.getNeighbor(cell)\n",
        "                  for n in neighbor:\n",
        "                    if n.getCellType()==\"Unknown\":\n",
        "                      searchPosition.append([n.getLen(),n.getWid()])\n",
        "                  cell.setUseless(True)\n",
        "                elif self.board.countNeighborUnknowns(cell)== cell.getVal()-self.board.countNeighborMines(cell):\n",
        "                  neighbor=self.board.getNeighbor(cell)\n",
        "                  for n in neighbor:\n",
        "                     if n.getCellType()==\"Unknown\":\n",
        "                      n.setCellType(\"Mine\")\n",
        "#                       print(\"****************\")\n",
        "                      n.setUseless(True)\n",
        "                  cell.setUseless(True)\n",
        "                break\n",
        "              elif cell.getCellType()==\"Clear\":\n",
        "                neighbor=self.board.getNeighbor(cell)\n",
        "#                 for k in neighbor:\n",
        "#                   print(k.getLen(),k.getWid())\n",
        "                for n in neighbor:\n",
        "                  if n.getCellType()==\"Unknown\" and [n.getLen(),n.getWid()]not in searchPosition:\n",
        "                    searchPosition.append([n.getLen(),n.getWid()])\n",
        "    #             print(\"----------_________________________--------\")\n",
        "    #             print(cell.getLen(),cell.getWid())\n",
        "    #             print(searchPosition)\n",
        "    #             print(\"----------_________________________-------------\")\n",
        "                cell.setUseless(True)\n",
        "                break\n",
        "        self.board.printBoard()\n",
        "        return searchPosition\n",
        "\n",
        "    def commonUnknowns(self,cell1,cell2):\n",
        "        common=[]\n",
        "        for cell in self.board.getNeighborUnknowns(cell1):\n",
        "            if cell in self.board.getNeighborUnknowns(cell2):\n",
        "                common.append(cell)\n",
        "        return common\n",
        "    \n",
        "    def computeParameters(self,cell1,cell2):\n",
        "        n1=cell1.getVal()-self.board.countNeighborMines(cell1)\n",
        "        n2=cell2.getVal()-self.board.countNeighborMines(cell2)\n",
        "        c=self.commonUnknowns(cell1,cell2)\n",
        "        u1=diff(self.board.getNeighborUnknowns(cell1),c)\n",
        "        u2=diff(self.board.getNeighborUnknowns(cell2),c)\n",
        "#         print(\"****************\")\n",
        "#         print(\"cell1:\",cell1.getLen(),cell1.getWid())\n",
        "#         self.printList(board.getNeighborUnknowns(cell1))\n",
        "#         print(\"cell2:\",cell2.getLen(),cell2.getWid())\n",
        "#         self.printList(board.getNeighborUnknowns(cell2))\n",
        "#         print(\"n1=\",n1)        \n",
        "#         print(\"n2=\",n2)\n",
        "#         print(\"C:\")\n",
        "#         self.printList(c)\n",
        "#         print(\"u1:\")\n",
        "#         self.printList(u1)\n",
        "#         print(\"u2:\")\n",
        "#         self.printList(u2)\n",
        "        return n1,n2,c,u1,u2\n",
        "    \n",
        "    def printList(self,list):\n",
        "#         print(\"list:\")\n",
        "        for cell in list:\n",
        "            print(cell.getLen(),cell.getWid())\n",
        "    \n",
        "    def runInfer(self):\n",
        "        print(\"runInfer\")\n",
        "        inferPosition=self.infer()\n",
        "        if not self.runSweeper(inferPosition):\n",
        "            print(\"Died in Infer\")\n",
        "            return False\n",
        "        return True\n",
        "\n",
        "    def infer(self):\n",
        "        print(\"Inferring\")\n",
        "        knowledgeBase=[]\n",
        "        searchPosition=[]\n",
        "        for i in range (self.board.getLen()):\n",
        "            for j in range(self.board.getWid()):\n",
        "                cell=self.board.board[i][j]\n",
        "                if cell.getCellType()==\"Number\" and self.board.countNeighborUnknowns(cell)!=0:\n",
        "                    knowledgeBase.append(cell)\n",
        "        \n",
        "#         for cell in knowledgeBase:\n",
        "#             print(cell.getLen(),cell.getWid())\n",
        "    \n",
        "        for cell1 in knowledgeBase:\n",
        "            for cell2 in knowledgeBase:\n",
        "                if cell1==cell2:\n",
        "                    continue\n",
        "                elif self.commonUnknowns(cell1,cell2):\n",
        "                    n1,n2,c,u1,u2=self.computeParameters(cell1,cell2)\n",
        "                    min_c = max(max(n1-len(u1),0),max(n2-len(u2),0))\n",
        "                    max_c = min(min(n1,len(c)),min(n2,len(c)))\n",
        "#                     print(\"min_c:\",min_c)\n",
        "#                     print(\"max_c:\",max_c)\n",
        "                    if min_c==len(c):\n",
        "                        for cell in c:\n",
        "                            #print(\"inferred mine: (\",cell.getLen(),\",\",cell.getWid(),\")\")\n",
        "                            cell.setCellType(\"Mine\")\n",
        "                    elif max_c==0:\n",
        "                        for cell in c:\n",
        "                            #print(\"inferred safe\",[cell.getLen(),cell.getWid()])\n",
        "                            searchPosition.append([cell.getLen(),cell.getWid()])                            \n",
        "                    if n1-max_c>=len(u1):\n",
        "                        for cell in u1:\n",
        "                            #print(\"inferred mine: (\",cell.getLen(),\",\",cell.getWid(),\")\")\n",
        "                            cell.setCellType(\"Mine\")\n",
        "                    elif n1-min_c==0:\n",
        "                        for cell in u1:\n",
        "                            #print(\"inferred safe\",[cell.getLen(),cell.getWid()])\n",
        "                            searchPosition.append([cell.getLen(),cell.getWid()])                        \n",
        "                    if n2-max_c>=len(u2):\n",
        "                        for cell in u2:\n",
        "                            #print(\"inferred mine: (\",cell.getLen(),\",\",cell.getWid(),\")\")\n",
        "                            cell.setCellType(\"Mine\")\n",
        "                    elif n2-min_c==0:\n",
        "                        for cell in u2:\n",
        "                            #print(\"inferred safe\",[cell.getLen(),cell.getWid()])\n",
        "                            searchPosition.append([cell.getLen(),cell.getWid()])  \n",
        "#         print(\"****************\")\n",
        "        self.board.printBoard()\n",
        "        print(\"Inferred Position:\",searchPosition)\n",
        "        return searchPosition\n",
        " \n",
        "    def autoSolve(self,start):\n",
        "        print(\"Solve with Inference:\")       \n",
        "        self.runSweeper(start)\n",
        "        while self.board.countMines()!=self.board.getMinesTotal():\n",
        "            if not self.solve():\n",
        "                print(\"Mines:\",self.board.countMines())\n",
        "                return\n",
        "            if not self.guess():\n",
        "                print(\"Mines:\",self.board.countMines())\n",
        "                return\n",
        "    \n",
        "    def autoSimpleSolve(self):\n",
        "        print(\"Simple Solve:\")\n",
        "        start=self.randomGuess()\n",
        "        self.runSweeper(start)\n",
        "        while self.board.countMines()!=self.board.getMinesTotal():\n",
        "            if not self.simpleSolve():\n",
        "                print(\"***********************************************************\")\n",
        "                print(\"Mines:\",self.board.countMines())\n",
        "                return start\n",
        "            if not self.guess():\n",
        "                print(\"***********************************************************\")\n",
        "                print(\"Mines:\",self.board.countMines())\n",
        "                return start        \n",
        "  \n",
        "    def runSweeper(self,query):\n",
        "        l=0\n",
        "        #print(query)\n",
        "        for i in query:\n",
        "            l+=1\n",
        "        for i in range (l):\n",
        "        #print(query[i][0],query[i][1])\n",
        "            val=randBoard[query[i][0]][query[i][1]]\n",
        "            #print(val)\n",
        "            cell=self.board.board[query[i][0]][query[i][1]]\n",
        "            cell.setVal(val)\n",
        "            cell.setUseless(False)\n",
        "            if val==9:\n",
        "                if self.death==\"on\":\n",
        "                    cell.setCellType(\"END\")\n",
        "                    print(\"You are died\")\n",
        "                    return False\n",
        "                else:\n",
        "                    cell.setCellType(\"Mine\")\n",
        "                    self.failure+=1\n",
        "                    print(\"Failure\")\n",
        "                    if self.board.countMines()!=self.board.getMinesTotal():\n",
        "                        return True\n",
        "                    else:\n",
        "                        print(\"Finish\")\n",
        "                        print(\"Number of Failures:\",self.failure)\n",
        "                        return False\n",
        "            elif val==0:\n",
        "                cell.setCellType(\"Clear\")\n",
        "            else:\n",
        "                cell.setCellType(\"Number\")\n",
        "        if self.board.getMinesTotal()-self.board.countMines()==self.board.getUnknowns():\n",
        "            unknowns=self.board.getUnkowns()\n",
        "            for n in unknowns:\n",
        "                n.setCellType(\"Mine\")\n",
        "                print(\"****************\")\n",
        "        if self.board.countMines()==self.board.getMinesTotal():\n",
        "            print(\"Finish\")\n",
        "            if self.death==\"off\":\n",
        "                print(\"Number of Failures:\",self.failure)\n",
        "            return False\n",
        "        return True"
      ],
      "execution_count": 0,
      "outputs": []
    },
    {
      "cell_type": "code",
      "metadata": {
        "id": "j0g_gEG-Sffp",
        "colab_type": "code",
        "colab": {}
      },
      "source": [
        "def generateRandomBoard(length,wid,mines):\n",
        "  randBoard=[[0 for i in range(wid)]for j in range(length)]\n",
        "  k=0\n",
        "  while k<mines:\n",
        "    randLen=random.randint(0,length-1)\n",
        "    randWid=random.randint(0,wid-1)\n",
        "    if(randBoard[randLen][randWid])!=9:\n",
        "      randBoard[randLen][randWid]=9\n",
        "      k+=1\n",
        "  for i in range(length):\n",
        "    for j in range(wid):\n",
        "      if randBoard[i][j]==9:\n",
        "        continue\n",
        "      else:\n",
        "        val=0\n",
        "        for m in range(max(0,i-1),min(length-1,i+1)+1):\n",
        "          for n in range(max(0,j-1),min(wid-1,j+1)+1):\n",
        "            if randBoard[m][n]==9:\n",
        "              val+=1\n",
        "        randBoard[i][j]=val\n",
        "  return randBoard\n",
        "            \n",
        "def setBoard():\n",
        "# 0:clear, 9:mine,1-8:number  \n",
        "    randBoard=[[0,0,0,0,0],[2,2,1,1,1],[9,9,1,1,9],[9,3,1,1,1],[1,1,0,0,0]]\n",
        "    board=Board(5,5,3)\n",
        "    \n",
        "    board.board[2][0].setVal(9)\n",
        "    for i in [2,3,4]:\n",
        "        for j in range(5):\n",
        "            board.board[i][j].setVal(randBoard[i][j])\n",
        "    board.board[4][4].setVal(0)\n",
        "    \n",
        "    board.board[2][0].setCellType(\"Mine\")\n",
        "    board.board[3][0].setCellType(\"Mine\")\n",
        "    board.board[3][1].setCellType(\"Number\")\n",
        "    board.board[3][2].setCellType(\"Number\")\n",
        "    board.board[3][3].setCellType(\"Number\")\n",
        "    board.board[3][4].setCellType(\"Number\")\n",
        "    board.board[4][0].setCellType(\"Number\")\n",
        "    board.board[4][1].setCellType(\"Number\")\n",
        "    board.board[4][2].setCellType(\"Clear\")\n",
        "    board.board[4][3].setCellType(\"Clear\")\n",
        "    board.board[4][4].setCellType(\"Clear\")\n",
        "    \n",
        "    \n",
        "    board.printBoard()\n",
        "    return randBoard,board\n",
        "    \n",
        "def printRand(rand):\n",
        "  for i in rand:\n",
        "      if i==9:\n",
        "        print(\"M\")\n",
        "      else:\n",
        "        print(str(i))\n",
        "      \n",
        "        \n"
      ],
      "execution_count": 0,
      "outputs": []
    },
    {
      "cell_type": "code",
      "metadata": {
        "id": "s_rLwR_OWl3V",
        "colab_type": "code",
        "outputId": "82a7ae03-61db-496d-cac3-ceaea746a0be",
        "colab": {
          "base_uri": "https://localhost:8080/",
          "height": 1000
        }
      },
      "source": [
        "# randBoard,board=setBoard()\n",
        "# printRand(randBoard)\n",
        "# sweeper=Sweeper(board,randBoard)\n",
        "# sweeper.runInfer()\n",
        "\n",
        "length=10\n",
        "wid=10\n",
        "mines=15\n",
        "randBoard=generateRandomBoard(length,wid,mines)\n",
        "print(randBoard)\n",
        "printRand(randBoard)\n",
        "board1=Board(length,wid,mines)\n",
        "board2=Board(length,wid,mines)\n",
        "sweeper1=Sweeper(board1,randBoard,\"on\")\n",
        "start=sweeper1.autoSimpleSolve()\n",
        "sweeper2=Sweeper(board2,randBoard,\"on\")\n",
        "sweeper2.autoSolve(start)"
      ],
      "execution_count": 639,
      "outputs": [
        {
          "output_type": "stream",
          "text": [
            "[[0, 2, 9, 2, 0, 0, 0, 0, 0, 0], [1, 3, 9, 2, 0, 0, 0, 0, 0, 0], [9, 3, 1, 1, 1, 1, 1, 0, 1, 1], [9, 2, 1, 1, 2, 9, 2, 1, 2, 9], [1, 1, 1, 9, 2, 2, 3, 9, 3, 2], [0, 0, 1, 1, 1, 1, 9, 2, 3, 9], [0, 0, 0, 0, 0, 1, 1, 1, 2, 9], [1, 1, 0, 0, 0, 0, 0, 0, 1, 1], [9, 2, 2, 2, 1, 0, 0, 0, 1, 1], [1, 2, 9, 9, 1, 0, 0, 0, 1, 9]]\n",
            "[0, 2, 9, 2, 0, 0, 0, 0, 0, 0]\n",
            "[1, 3, 9, 2, 0, 0, 0, 0, 0, 0]\n",
            "[9, 3, 1, 1, 1, 1, 1, 0, 1, 1]\n",
            "[9, 2, 1, 1, 2, 9, 2, 1, 2, 9]\n",
            "[1, 1, 1, 9, 2, 2, 3, 9, 3, 2]\n",
            "[0, 0, 1, 1, 1, 1, 9, 2, 3, 9]\n",
            "[0, 0, 0, 0, 0, 1, 1, 1, 2, 9]\n",
            "[1, 1, 0, 0, 0, 0, 0, 0, 1, 1]\n",
            "[9, 2, 2, 2, 1, 0, 0, 0, 1, 1]\n",
            "[1, 2, 9, 9, 1, 0, 0, 0, 1, 9]\n",
            "Simple Solve:\n",
            "Searching...\n",
            "Mines Found:0\n"
          ],
          "name": "stdout"
        },
        {
          "output_type": "display_data",
          "data": {
            "image/png": "[encoded data removed]",
            "text/plain": [
              "<Figure size 432x288 with 1 Axes>"
            ]
          },
          "metadata": {
            "tags": []
          }
        },
        {
          "output_type": "stream",
          "text": [
            "Searching...\n",
            "Mines Found:0\n"
          ],
          "name": "stdout"
        },
        {
          "output_type": "display_data",
          "data": {
            "image/png": "[encoded data removed]",
            "text/plain": [
              "<Figure size 432x288 with 1 Axes>"
            ]
          },
          "metadata": {
            "tags": []
          }
        },
        {
          "output_type": "stream",
          "text": [
            "Searching...\n",
            "Mines Found:0\n"
          ],
          "name": "stdout"
        },
        {
          "output_type": "display_data",
          "data": {
            "image/png": "[encoded data removed]",
            "text/plain": [
              "<Figure size 432x288 with 1 Axes>"
            ]
          },
          "metadata": {
            "tags": []
          }
        },
        {
          "output_type": "stream",
          "text": [
            "Searching...\n",
            "Mines Found:0\n"
          ],
          "name": "stdout"
        },
        {
          "output_type": "display_data",
          "data": {
            "image/png": "[encoded data removed]",
            "text/plain": [
              "<Figure size 432x288 with 1 Axes>"
            ]
          },
          "metadata": {
            "tags": []
          }
        },
        {
          "output_type": "stream",
          "text": [
            "Searching...\n",
            "Mines Found:2\n"
          ],
          "name": "stdout"
        },
        {
          "output_type": "display_data",
          "data": {
            "image/png": "[encoded data removed]",
            "text/plain": [
              "<Figure size 432x288 with 1 Axes>"
            ]
          },
          "metadata": {
            "tags": []
          }
        },
        {
          "output_type": "stream",
          "text": [
            "Searching...\n",
            "Mines Found:2\n"
          ],
          "name": "stdout"
        },
        {
          "output_type": "display_data",
          "data": {
            "image/png": "[encoded data removed]",
            "text/plain": [
              "<Figure size 432x288 with 1 Axes>"
            ]
          },
          "metadata": {
            "tags": []
          }
        },
        {
          "output_type": "stream",
          "text": [
            "Searching...\n",
            "Mines Found:2\n"
          ],
          "name": "stdout"
        },
        {
          "output_type": "display_data",
          "data": {
            "image/png": "[encoded data removed]",
            "text/plain": [
              "<Figure size 432x288 with 1 Axes>"
            ]
          },
          "metadata": {
            "tags": []
          }
        },
        {
          "output_type": "stream",
          "text": [
            "Guessing...\n",
            "Guessed Position [[9, 9]]\n",
            "You are died\n",
            "***********************************************************\n",
            "Mines: 2\n",
            "Solve with Inference:\n",
            "Searching...\n",
            "Mines Found:0\n"
          ],
          "name": "stdout"
        },
        {
          "output_type": "display_data",
          "data": {
            "image/png": "[encoded data removed]",
            "text/plain": [
              "<Figure size 432x288 with 1 Axes>"
            ]
          },
          "metadata": {
            "tags": []
          }
        },
        {
          "output_type": "stream",
          "text": [
            "Inferring\n",
            "Mines Found:0\n"
          ],
          "name": "stdout"
        },
        {
          "output_type": "display_data",
          "data": {
            "image/png": "[encoded data removed]",
            "text/plain": [
              "<Figure size 432x288 with 1 Axes>"
            ]
          },
          "metadata": {
            "tags": []
          }
        },
        {
          "output_type": "stream",
          "text": [
            "Inferred Position: []\n",
            "Searching...\n",
            "Mines Found:0\n"
          ],
          "name": "stdout"
        },
        {
          "output_type": "display_data",
          "data": {
            "image/png": "[encoded data removed]",
            "text/plain": [
              "<Figure size 432x288 with 1 Axes>"
            ]
          },
          "metadata": {
            "tags": []
          }
        },
        {
          "output_type": "stream",
          "text": [
            "Searching...\n",
            "Mines Found:0\n"
          ],
          "name": "stdout"
        },
        {
          "output_type": "display_data",
          "data": {
            "image/png": "[encoded data removed]",
            "text/plain": [
              "<Figure size 432x288 with 1 Axes>"
            ]
          },
          "metadata": {
            "tags": []
          }
        },
        {
          "output_type": "stream",
          "text": [
            "Searching...\n",
            "Mines Found:0\n"
          ],
          "name": "stdout"
        },
        {
          "output_type": "display_data",
          "data": {
            "image/png": "[encoded data removed]",
            "text/plain": [
              "<Figure size 432x288 with 1 Axes>"
            ]
          },
          "metadata": {
            "tags": []
          }
        },
        {
          "output_type": "stream",
          "text": [
            "Searching...\n",
            "Mines Found:2\n"
          ],
          "name": "stdout"
        },
        {
          "output_type": "display_data",
          "data": {
            "image/png": "[encoded data removed]",
            "text/plain": [
              "<Figure size 432x288 with 1 Axes>"
            ]
          },
          "metadata": {
            "tags": []
          }
        },
        {
          "output_type": "stream",
          "text": [
            "Searching...\n",
            "Mines Found:2\n"
          ],
          "name": "stdout"
        },
        {
          "output_type": "display_data",
          "data": {
            "image/png": "[encoded data removed]",
            "text/plain": [
              "<Figure size 432x288 with 1 Axes>"
            ]
          },
          "metadata": {
            "tags": []
          }
        },
        {
          "output_type": "stream",
          "text": [
            "Searching...\n",
            "Mines Found:2\n"
          ],
          "name": "stdout"
        },
        {
          "output_type": "display_data",
          "data": {
            "image/png": "[encoded data removed]",
            "text/plain": [
              "<Figure size 432x288 with 1 Axes>"
            ]
          },
          "metadata": {
            "tags": []
          }
        },
        {
          "output_type": "stream",
          "text": [
            "Inferring\n",
            "Mines Found:4\n"
          ],
          "name": "stdout"
        },
        {
          "output_type": "display_data",
          "data": {
            "image/png": "[encoded data removed]",
            "text/plain": [
              "<Figure size 432x288 with 1 Axes>"
            ]
          },
          "metadata": {
            "tags": []
          }
        },
        {
          "output_type": "stream",
          "text": [
            "Inferred Position: [[0, 1], [0, 0], [0, 1], [0, 0]]\n",
            "Inferring\n",
            "Mines Found:6\n"
          ],
          "name": "stdout"
        },
        {
          "output_type": "display_data",
          "data": {
            "image/png": "[encoded data removed]",
            "text/plain": [
              "<Figure size 432x288 with 1 Axes>"
            ]
          },
          "metadata": {
            "tags": []
          }
        },
        {
          "output_type": "stream",
          "text": [
            "Inferred Position: [[1, 0], [1, 0], [1, 0], [1, 0], [1, 0], [1, 0], [4, 1], [4, 2], [4, 0], [4, 2], [4, 0], [4, 1], [4, 4], [4, 1], [4, 2], [4, 0], [4, 2], [4, 1], [4, 4], [4, 2], [4, 4], [4, 0], [4, 1], [4, 2], [4, 4], [4, 1], [4, 4], [4, 2], [4, 5], [4, 4], [4, 5], [4, 2], [4, 5], [4, 4], [4, 5], [4, 4]]\n",
            "Inferring\n",
            "Mines Found:6\n"
          ],
          "name": "stdout"
        },
        {
          "output_type": "display_data",
          "data": {
            "image/png": "[encoded data removed]",
            "text/plain": [
              "<Figure size 432x288 with 1 Axes>"
            ]
          },
          "metadata": {
            "tags": []
          }
        },
        {
          "output_type": "stream",
          "text": [
            "Inferred Position: [[4, 8], [4, 8], [5, 0], [5, 1], [5, 2], [5, 1], [5, 0], [5, 3], [5, 2], [5, 0], [5, 1], [5, 2], [5, 1], [5, 2], [5, 0], [5, 3], [5, 1], [5, 3], [5, 2], [5, 0], [5, 1], [5, 2], [5, 3], [5, 0], [5, 3], [5, 1], [5, 2], [5, 4], [5, 5], [5, 3], [5, 4], [5, 5], [5, 1], [5, 2], [5, 4], [5, 5], [5, 3], [5, 4], [5, 5], [5, 3]]\n",
            "Inferring\n",
            "Mines Found:6\n"
          ],
          "name": "stdout"
        },
        {
          "output_type": "display_data",
          "data": {
            "image/png": "[encoded data removed]",
            "text/plain": [
              "<Figure size 432x288 with 1 Axes>"
            ]
          },
          "metadata": {
            "tags": []
          }
        },
        {
          "output_type": "stream",
          "text": [
            "Inferred Position: [[6, 4], [6, 6], [6, 5], [6, 2], [6, 3], [6, 1], [6, 4], [6, 3], [6, 2], [6, 1], [6, 4], [6, 5], [6, 2], [6, 3], [6, 4], [6, 1], [6, 3], [6, 4], [6, 2], [6, 5], [6, 4], [6, 2], [6, 3], [6, 3], [6, 4], [6, 5], [6, 2], [6, 1], [6, 3], [6, 4], [6, 5], [6, 2], [6, 4], [6, 5], [6, 3], [6, 4], [6, 6], [6, 5], [6, 4], [6, 2], [6, 3], [6, 4], [6, 5], [6, 3]]\n",
            "Inferring\n",
            "Mines Found:6\n"
          ],
          "name": "stdout"
        },
        {
          "output_type": "display_data",
          "data": {
            "image/png": "[encoded data removed]",
            "text/plain": [
              "<Figure size 432x288 with 1 Axes>"
            ]
          },
          "metadata": {
            "tags": []
          }
        },
        {
          "output_type": "stream",
          "text": [
            "Inferred Position: []\n",
            "Searching...\n",
            "Mines Found:6\n"
          ],
          "name": "stdout"
        },
        {
          "output_type": "display_data",
          "data": {
            "image/png": "[encoded data removed]",
            "text/plain": [
              "<Figure size 432x288 with 1 Axes>"
            ]
          },
          "metadata": {
            "tags": []
          }
        },
        {
          "output_type": "stream",
          "text": [
            "Searching...\n",
            "Mines Found:6\n"
          ],
          "name": "stdout"
        },
        {
          "output_type": "display_data",
          "data": {
            "image/png": "[encoded data removed]",
            "text/plain": [
              "<Figure size 432x288 with 1 Axes>"
            ]
          },
          "metadata": {
            "tags": []
          }
        },
        {
          "output_type": "stream",
          "text": [
            "Inferring\n",
            "Mines Found:6\n"
          ],
          "name": "stdout"
        },
        {
          "output_type": "display_data",
          "data": {
            "image/png": "[encoded data removed]",
            "text/plain": [
              "<Figure size 432x288 with 1 Axes>"
            ]
          },
          "metadata": {
            "tags": []
          }
        },
        {
          "output_type": "stream",
          "text": [
            "Inferred Position: [[8, 2], [8, 2]]\n",
            "Inferring\n",
            "Mines Found:6\n"
          ],
          "name": "stdout"
        },
        {
          "output_type": "display_data",
          "data": {
            "image/png": "[encoded data removed]",
            "text/plain": [
              "<Figure size 432x288 with 1 Axes>"
            ]
          },
          "metadata": {
            "tags": []
          }
        },
        {
          "output_type": "stream",
          "text": [
            "Inferred Position: []\n",
            "Searching...\n",
            "Mines Found:6\n"
          ],
          "name": "stdout"
        },
        {
          "output_type": "display_data",
          "data": {
            "image/png": "[encoded data removed]",
            "text/plain": [
              "<Figure size 432x288 with 1 Axes>"
            ]
          },
          "metadata": {
            "tags": []
          }
        },
        {
          "output_type": "stream",
          "text": [
            "Searching...\n",
            "Mines Found:6\n"
          ],
          "name": "stdout"
        },
        {
          "output_type": "display_data",
          "data": {
            "image/png": "[encoded data removed]",
            "text/plain": [
              "<Figure size 432x288 with 1 Axes>"
            ]
          },
          "metadata": {
            "tags": []
          }
        },
        {
          "output_type": "stream",
          "text": [
            "Searching...\n",
            "Mines Found:7\n"
          ],
          "name": "stdout"
        },
        {
          "output_type": "display_data",
          "data": {
            "image/png": "[encoded data removed]",
            "text/plain": [
              "<Figure size 432x288 with 1 Axes>"
            ]
          },
          "metadata": {
            "tags": []
          }
        },
        {
          "output_type": "stream",
          "text": [
            "Searching...\n",
            "Mines Found:7\n"
          ],
          "name": "stdout"
        },
        {
          "output_type": "display_data",
          "data": {
            "image/png": "[encoded data removed]",
            "text/plain": [
              "<Figure size 432x288 with 1 Axes>"
            ]
          },
          "metadata": {
            "tags": []
          }
        },
        {
          "output_type": "stream",
          "text": [
            "Inferring\n",
            "Mines Found:7\n"
          ],
          "name": "stdout"
        },
        {
          "output_type": "display_data",
          "data": {
            "image/png": "[encoded data removed]",
            "text/plain": [
              "<Figure size 432x288 with 1 Axes>"
            ]
          },
          "metadata": {
            "tags": []
          }
        },
        {
          "output_type": "stream",
          "text": [
            "Inferred Position: [[5, 7], [7, 7], [6, 7], [5, 7], [7, 7], [6, 7]]\n",
            "Inferring\n",
            "Mines Found:7\n"
          ],
          "name": "stdout"
        },
        {
          "output_type": "display_data",
          "data": {
            "image/png": "[encoded data removed]",
            "text/plain": [
              "<Figure size 432x288 with 1 Axes>"
            ]
          },
          "metadata": {
            "tags": []
          }
        },
        {
          "output_type": "stream",
          "text": [
            "Inferred Position: [[7, 8], [6, 8], [5, 8], [7, 8], [6, 8], [5, 8], [7, 8], [6, 8], [5, 8], [7, 8], [6, 8], [5, 8]]\n",
            "Inferring\n",
            "Mines Found:11\n"
          ],
          "name": "stdout"
        },
        {
          "output_type": "display_data",
          "data": {
            "image/png": "[encoded data removed]",
            "text/plain": [
              "<Figure size 432x288 with 1 Axes>"
            ]
          },
          "metadata": {
            "tags": []
          }
        },
        {
          "output_type": "stream",
          "text": [
            "Inferred Position: [[4, 6], [4, 6], [4, 6], [4, 9], [4, 9], [4, 6], [4, 6], [4, 6], [4, 6], [4, 9], [4, 9], [4, 6], [4, 6], [4, 6], [4, 6], [4, 6], [4, 6], [4, 6], [4, 6], [4, 9], [4, 9], [7, 6], [7, 6], [7, 6], [7, 6], [7, 6], [7, 6], [7, 9], [8, 9], [8, 7], [8, 8], [7, 9], [8, 9], [8, 7], [8, 8]]\n",
            "Inferring\n",
            "Mines Found:11\n"
          ],
          "name": "stdout"
        },
        {
          "output_type": "display_data",
          "data": {
            "image/png": "[encoded data removed]",
            "text/plain": [
              "<Figure size 432x288 with 1 Axes>"
            ]
          },
          "metadata": {
            "tags": []
          }
        },
        {
          "output_type": "stream",
          "text": [
            "Inferred Position: [[9, 7], [9, 7]]\n",
            "Inferring\n",
            "Mines Found:11\n"
          ],
          "name": "stdout"
        },
        {
          "output_type": "display_data",
          "data": {
            "image/png": "[encoded data removed]",
            "text/plain": [
              "<Figure size 432x288 with 1 Axes>"
            ]
          },
          "metadata": {
            "tags": []
          }
        },
        {
          "output_type": "stream",
          "text": [
            "Inferred Position: []\n",
            "Searching...\n",
            "Mines Found:11\n"
          ],
          "name": "stdout"
        },
        {
          "output_type": "display_data",
          "data": {
            "image/png": "[encoded data removed]",
            "text/plain": [
              "<Figure size 432x288 with 1 Axes>"
            ]
          },
          "metadata": {
            "tags": []
          }
        },
        {
          "output_type": "stream",
          "text": [
            "Searching...\n",
            "Mines Found:11\n"
          ],
          "name": "stdout"
        },
        {
          "output_type": "display_data",
          "data": {
            "image/png": "[encoded data removed]",
            "text/plain": [
              "<Figure size 432x288 with 1 Axes>"
            ]
          },
          "metadata": {
            "tags": []
          }
        },
        {
          "output_type": "stream",
          "text": [
            "Searching...\n",
            "Mines Found:11\n"
          ],
          "name": "stdout"
        },
        {
          "output_type": "display_data",
          "data": {
            "image/png": "[encoded data removed]",
            "text/plain": [
              "<Figure size 432x288 with 1 Axes>"
            ]
          },
          "metadata": {
            "tags": []
          }
        },
        {
          "output_type": "stream",
          "text": [
            "Searching...\n",
            "Mines Found:11\n"
          ],
          "name": "stdout"
        },
        {
          "output_type": "display_data",
          "data": {
            "image/png": "[encoded data removed]",
            "text/plain": [
              "<Figure size 432x288 with 1 Axes>"
            ]
          },
          "metadata": {
            "tags": []
          }
        },
        {
          "output_type": "stream",
          "text": [
            "Inferring\n",
            "Mines Found:12\n"
          ],
          "name": "stdout"
        },
        {
          "output_type": "display_data",
          "data": {
            "image/png": "[encoded data removed]",
            "text/plain": [
              "<Figure size 432x288 with 1 Axes>"
            ]
          },
          "metadata": {
            "tags": []
          }
        },
        {
          "output_type": "stream",
          "text": [
            "Inferred Position: []\n",
            "Searching...\n",
            "Mines Found:12\n"
          ],
          "name": "stdout"
        },
        {
          "output_type": "display_data",
          "data": {
            "image/png": "[encoded data removed]",
            "text/plain": [
              "<Figure size 432x288 with 1 Axes>"
            ]
          },
          "metadata": {
            "tags": []
          }
        },
        {
          "output_type": "stream",
          "text": [
            "Guessing...\n",
            "Guessed Position [[9, 3]]\n",
            "You are died\n",
            "Mines: 12\n"
          ],
          "name": "stdout"
        }
      ]
    }
  ]
}