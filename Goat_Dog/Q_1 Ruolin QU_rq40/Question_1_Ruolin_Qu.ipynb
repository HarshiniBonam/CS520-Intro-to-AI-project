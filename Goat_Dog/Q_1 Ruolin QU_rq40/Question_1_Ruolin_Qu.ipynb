{
  "nbformat": 4,
  "nbformat_minor": 0,
  "metadata": {
    "colab": {
      "name": "Question_1_Ruolin_Qu.ipynb",
      "provenance": [],
      "collapsed_sections": []
    },
    "kernelspec": {
      "name": "python3",
      "display_name": "Python 3"
    }
  },
  "cells": [
    {
      "cell_type": "code",
      "metadata": {
        "id": "WUkwsEOqhmuO",
        "colab_type": "code",
        "colab": {}
      },
      "source": [
        "import random\n",
        "import numpy as np\n",
        "import matplotlib.pyplot as plt\n",
        "from matplotlib import colors\n",
        "from math import sqrt, fabs"
      ],
      "execution_count": 0,
      "outputs": []
    },
    {
      "cell_type": "code",
      "metadata": {
        "id": "KKmOhhbojHgG",
        "colab_type": "code",
        "colab": {}
      },
      "source": [
        "class Map():\n",
        "  def __init__(self):\n",
        "    self.map=[[0 for i in range(8)]for j in range (8)]\n",
        "    self.goat,self.dog1,self.dog2=self.generate_target()\n",
        "    if self.dog1[1]<self.dog2[1]:\n",
        "      self.dog1,self.dog2=self.dog2,self.dog1\n",
        "    #self.print_map()\n",
        "\n",
        "  def generate_target(self):\n",
        "    rand_len1,rand_wid1=random.randint(0,7),random.randint(0,7)\n",
        "    rand_len2,rand_wid2=random.randint(0,7),random.randint(0,7)\n",
        "    while rand_len2==rand_len1 and rand_wid2==rand_wid1:\n",
        "      rand_len2,rand_wid2=random.randint(0,7),random.randint(0,7)\n",
        "    rand_len3,rand_wid3=random.randint(0,7),random.randint(0,7)\n",
        "    while (rand_len3==rand_len1 and rand_wid3==rand_wid1) or (rand_len3==rand_len1 and rand_wid3==rand_wid1) :\n",
        "      rand_len3,rand_wid=random.randint(0,7),random.randint(0,7)\n",
        "    return [rand_len1,rand_wid1],[rand_len2,rand_wid2],[rand_len3,rand_wid3]\n",
        "    \n",
        "  def get_target(self):\n",
        "    return self.target\n",
        "\n",
        "  def print_map(self):\n",
        "    b = [['-'for i in range(8)] for j in range(8)]\n",
        "    fig, ax = plt.subplots()\n",
        "    ax.axis('tight')\n",
        "    ax.axis('off')\n",
        "    for i in range(8):\n",
        "      for j in range(8):\n",
        "            if(self.goat ==[i,j]):\n",
        "              b[i][j] = 'G'\n",
        "            elif(self.dog1 == [i,j]):\n",
        "              b[i][j] ='D'\n",
        "            elif(self.dog2 == [i,j]):\n",
        "              b[i][j] ='D'\n",
        "    the_table = ax.table(cellText = b, colWidths = [0.04 for x in range(50)])\n",
        "    plt.show()\n",
        "\n",
        "  def get_map(self):\n",
        "    return self.map\n",
        "\n",
        "  def predict_move_goat(self):\n",
        "    pos_x,pos_y=self.goat[0],self.goat[1]\n",
        "    action_list=[]\n",
        "    action=[]\n",
        "\n",
        "#Prepare prediction for all the possible state\n",
        "\n",
        "    if pos_x-1>=0:\n",
        "      action_list.append([pos_x-1,pos_y])\n",
        "    if pos_x+1<8:\n",
        "      action_list.append([pos_x+1,pos_y])\n",
        "    if pos_y-1>=0:\n",
        "      action_list.append([pos_x,pos_y-1])\n",
        "    if pos_y+1<8:\n",
        "      action_list.append([pos_x,pos_y+1])\n",
        "    for act in action_list:\n",
        "      #print(act,self.dog1,self.dog2)\n",
        "      if act!=self.dog1 and act!=self.dog2:\n",
        "        action.append(act)\n",
        "    #print(action)\n",
        "    #self.goat=action[random.randint(0,len(action)-1)]\n",
        "    return action\n",
        "\n",
        "  def move_goat(self):\n",
        "    action=self.predict_move_goat()\n",
        "    #print(action)\n",
        "    if not action:\n",
        "      return False\n",
        "    self.goat=action[random.randint(0,len(action)-1)]\n",
        "    return True\n",
        "\n",
        "  def move_dog1(self,w):\n",
        "    pos_x,pos_y=self.dog1[0],self.dog1[1]\n",
        "    action_list=[]\n",
        "    action=[]\n",
        "    action.append([pos_x,pos_y])\n",
        "    if pos_x-1>=0:\n",
        "      action_list.append([pos_x-1,pos_y])\n",
        "    if pos_x+1<8:\n",
        "      action_list.append([pos_x+1,pos_y])\n",
        "    if pos_y-1>=0:\n",
        "      action_list.append([pos_x,pos_y-1])\n",
        "    if pos_y+1<8:\n",
        "      action_list.append([pos_x,pos_y+1])\n",
        "    for act in action_list:\n",
        "      #print(act,self.dog1,self.dog2)\n",
        "      if act!=self.goat and act!=self.dog2:\n",
        "        action.append(act)\n",
        "    goat_action=self.predict_move_goat()\n",
        "    #print(action)\n",
        "    #print(goat_action)\n",
        "    move,distance,counter=0,0,0\n",
        "    min_distance=float('inf')\n",
        "    for j in action:\n",
        "      for i in goat_action:\n",
        "        distance+=self.get_mahttan_dist([i[0],i[1]+1],j)\n",
        "      if w>50:\n",
        "        distance+=(4*self.get_mahttan_dist(self.dog2,self.goat))\n",
        "      #distance+=self.get_mahttan_dist(self.dog1,self.goat)\n",
        "      if distance<min_distance:\n",
        "        min_distance=distance\n",
        "        move=counter\n",
        "      distance=0\n",
        "      counter+=1\n",
        "      #print(counter,min_distance,distance)\n",
        "    #print(move)\n",
        "    self.dog1=action[move]\n",
        "\n",
        "  def move_dog2(self,w):\n",
        "    pos_x,pos_y=self.dog2[0],self.dog2[1]\n",
        "    action_list=[]\n",
        "    action=[]\n",
        "    action.append([pos_x,pos_y])\n",
        "    if pos_x-1>=0:\n",
        "      action_list.append([pos_x-1,pos_y])\n",
        "    if pos_x+1<8:\n",
        "      action_list.append([pos_x+1,pos_y])\n",
        "    if pos_y-1>=0:\n",
        "      action_list.append([pos_x,pos_y-1])\n",
        "    if pos_y+1<8:\n",
        "      action_list.append([pos_x,pos_y+1])\n",
        "    for act in action_list:\n",
        "      #print(act,self.dog1,self.dog2)\n",
        "      if act!=self.goat and act!=self.dog1:\n",
        "        action.append(act)\n",
        "    goat_action=self.predict_move_goat()\n",
        "    # print(action)\n",
        "    # print(goat_action)\n",
        "    move,distance,counter=0,0,0\n",
        "    min_distance=float('inf')\n",
        "    for j in action:\n",
        "      for i in goat_action:\n",
        "        distance+=self.get_mahttan_dist([i[0]+1,i[1]],j)\n",
        "      if w>50:\n",
        "        distance+=(4*self.get_mahttan_dist(self.dog2,self.goat))\n",
        "      if distance<min_distance:\n",
        "        min_distance=distance\n",
        "        move=counter\n",
        "      distance=0\n",
        "      counter+=1\n",
        "      #print(counter,min_distance,distance)\n",
        "    #print(move)\n",
        "    self.dog2=action[move]\n",
        "\n",
        "  def get_mahttan_dist(self,p1,p2):\n",
        "    return fabs(p1[0]-p2[0])+fabs(p1[1]-p2[1])\n",
        "  \n",
        "\n",
        "  def endf(self):\n",
        "    if self.goat==[0,0] and (self.dog1==[0,1] or self.dog1==[1,0]) and (self.dog2==[0,1] or self.dog2==[1,0]):\n",
        "      return True\n",
        "    else:\n",
        "      return False\n"
      ],
      "execution_count": 0,
      "outputs": []
    },
    {
      "cell_type": "markdown",
      "metadata": {
        "id": "Ul7B5FttBA7W",
        "colab_type": "text"
      },
      "source": [
        "Get average steps for each round\n"
      ]
    },
    {
      "cell_type": "code",
      "metadata": {
        "id": "g9ibTl5rI77W",
        "colab_type": "code",
        "outputId": "d151d2ab-6306-4fd9-9dfe-216e91d4db8f",
        "colab": {
          "base_uri": "https://localhost:8080/",
          "height": 33
        }
      },
      "source": [
        "a=Map()\n",
        "total,steps=0,0\n",
        "for i in range(100):\n",
        "  a=Map()\n",
        "  for j in range(1000):\n",
        "    a.move_dog1(steps)\n",
        "    a.move_dog2(steps)\n",
        "    total+=1\n",
        "    if not a.move_goat():\n",
        "      total+=steps\n",
        "      steps=0\n",
        "      break\n",
        "average_steps=total/50\n",
        "print(average_steps)\n"
      ],
      "execution_count": 0,
      "outputs": [
        {
          "output_type": "stream",
          "text": [
            "92.48\n"
          ],
          "name": "stdout"
        }
      ]
    },
    {
      "cell_type": "markdown",
      "metadata": {
        "id": "yc8mfkIbBL8b",
        "colab_type": "text"
      },
      "source": [
        "Display one round\n"
      ]
    },
    {
      "cell_type": "code",
      "metadata": {
        "id": "47HMrDGIoLVo",
        "colab_type": "code",
        "outputId": "b2c09e53-5486-43ff-cd86-b7987e0ba7ce",
        "colab": {
          "base_uri": "https://localhost:8080/",
          "height": 1000
        }
      },
      "source": [
        "a=Map()\n",
        "for i in range(100):\n",
        "  a.move_dog1(1)\n",
        "  a.move_dog2(1)\n",
        "  a.print_map()\n",
        "  if not a.move_goat():\n",
        "    break\n"
      ],
      "execution_count": 0,
      "outputs": [
        {
          "output_type": "display_data",
          "data": {
            "image/png": "[encoded data removed]",
            "text/plain": [
              "<Figure size 432x288 with 1 Axes>"
            ]
          },
          "metadata": {
            "tags": []
          }
        },
        {
          "output_type": "display_data",
          "data": {
            "image/png": "[encoded data removed]",
            "text/plain": [
              "<Figure size 432x288 with 1 Axes>"
            ]
          },
          "metadata": {
            "tags": []
          }
        },
        {
          "output_type": "display_data",
          "data": {
            "image/png": "[encoded data removed]",
            "text/plain": [
              "<Figure size 432x288 with 1 Axes>"
            ]
          },
          "metadata": {
            "tags": []
          }
        },
        {
          "output_type": "display_data",
          "data": {
            "image/png": "[encoded data removed]",
            "text/plain": [
              "<Figure size 432x288 with 1 Axes>"
            ]
          },
          "metadata": {
            "tags": []
          }
        },
        {
          "output_type": "display_data",
          "data": {
            "image/png": "[encoded data removed]",
            "text/plain": [
              "<Figure size 432x288 with 1 Axes>"
            ]
          },
          "metadata": {
            "tags": []
          }
        },
        {
          "output_type": "display_data",
          "data": {
            "image/png": "[encoded data removed]",
            "text/plain": [
              "<Figure size 432x288 with 1 Axes>"
            ]
          },
          "metadata": {
            "tags": []
          }
        },
        {
          "output_type": "display_data",
          "data": {
            "image/png": "[encoded data removed]",
            "text/plain": [
              "<Figure size 432x288 with 1 Axes>"
            ]
          },
          "metadata": {
            "tags": []
          }
        },
        {
          "output_type": "display_data",
          "data": {
            "image/png": "[encoded data removed]",
            "text/plain": [
              "<Figure size 432x288 with 1 Axes>"
            ]
          },
          "metadata": {
            "tags": []
          }
        },
        {
          "output_type": "display_data",
          "data": {
            "image/png": "[encoded data removed]",
            "text/plain": [
              "<Figure size 432x288 with 1 Axes>"
            ]
          },
          "metadata": {
            "tags": []
          }
        },
        {
          "output_type": "display_data",
          "data": {
            "image/png": "[encoded data removed]",
            "text/plain": [
              "<Figure size 432x288 with 1 Axes>"
            ]
          },
          "metadata": {
            "tags": []
          }
        },
        {
          "output_type": "display_data",
          "data": {
            "image/png": "[encoded data removed]",
            "text/plain": [
              "<Figure size 432x288 with 1 Axes>"
            ]
          },
          "metadata": {
            "tags": []
          }
        },
        {
          "output_type": "display_data",
          "data": {
            "image/png": "[encoded data removed]",
            "text/plain": [
              "<Figure size 432x288 with 1 Axes>"
            ]
          },
          "metadata": {
            "tags": []
          }
        },
        {
          "output_type": "display_data",
          "data": {
            "image/png": "[encoded data removed]",
            "text/plain": [
              "<Figure size 432x288 with 1 Axes>"
            ]
          },
          "metadata": {
            "tags": []
          }
        },
        {
          "output_type": "display_data",
          "data": {
            "image/png": "[encoded data removed]",
            "text/plain": [
              "<Figure size 432x288 with 1 Axes>"
            ]
          },
          "metadata": {
            "tags": []
          }
        },
        {
          "output_type": "display_data",
          "data": {
            "image/png": "[encoded data removed]",
            "text/plain": [
              "<Figure size 432x288 with 1 Axes>"
            ]
          },
          "metadata": {
            "tags": []
          }
        },
        {
          "output_type": "display_data",
          "data": {
            "image/png": "[encoded data removed]",
            "text/plain": [
              "<Figure size 432x288 with 1 Axes>"
            ]
          },
          "metadata": {
            "tags": []
          }
        }
      ]
    }
  ]
}